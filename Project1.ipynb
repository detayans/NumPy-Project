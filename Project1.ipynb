{
  "nbformat": 4,
  "nbformat_minor": 0,
  "metadata": {
    "colab": {
      "name": "Project1.ipynb",
      "provenance": [],
      "authorship_tag": "ABX9TyOlz5nFNbd3ZtgjWrs99pOf",
      "include_colab_link": true
    },
    "kernelspec": {
      "name": "python3",
      "display_name": "Python 3"
    },
    "language_info": {
      "name": "python"
    }
  },
  "cells": [
    {
      "cell_type": "markdown",
      "metadata": {
        "id": "view-in-github",
        "colab_type": "text"
      },
      "source": [
        "<a href=\"https://colab.research.google.com/github/detayans/NumPy-Project/blob/main/Project1.ipynb\" target=\"_parent\"><img src=\"https://colab.research.google.com/assets/colab-badge.svg\" alt=\"Open In Colab\"/></a>"
      ]
    },
    {
      "cell_type": "code",
      "metadata": {
        "id": "hpSe9iXYNkWb"
      },
      "source": [
        "#Project :\n",
        "#Let us build a complete project using NumPy (without any help).\n",
        "\n",
        "#Path: project_data = 'KAG_Conversion_Data.csv'\n",
        "#Features:\n",
        "#ad_id: unique ID for each ad\n",
        "#xyzcampaignid: an ID associated with each ad campaign of XYZ company\n",
        "#fbcampaignid: an ID associated with how Facebook tracks each campaign\n",
        "#age: age of the person to whom the ad is shown\n",
        "#gender: gender of the person to whom the add is shown\n",
        "#interest: a code specifying the category to which the person’s interest belongs\n",
        "#(interests are as mentioned in the person’s Facebook public profile)\n",
        "#Impressions: the number of times the ad was shown\n",
        "#Clicks: number of clicks on for that ad\n",
        "#Spent: Amount paid by company xyz to Facebook, to show that ad\n",
        "#Total conversion: Total number of people who enquired about the product after seeing the ad\n",
        "#Approved conversion: Total number of people who bought the product after seeing the ad\n",
        "#Instructions:\n",
        "#Load the data. Data is already given to you in variable path\n",
        "\n",
        "#How many unique ad campaigns (xyzcampaignid) does this data contain ? \n",
        "#And for how many times was each campaign run ?\n",
        "\n",
        "#What are the age groups that were targeted through these ad campaigns?\n",
        "\n",
        "#What was the average, minimum and maximum amount spent on the ads?\n",
        "\n",
        "#What is the id of the ad having the maximum number of clicks ?\n",
        "\n",
        "#How many people bought the product after seeing the ad with most clicks? \n",
        "#Is that the maximum number of purchases in this dataset?\n",
        "\n",
        "#So the ad with the most clicks didn't fetch the maximum number of purchases. \n",
        "#Find the details of the product having maximum number of purchases"
      ],
      "execution_count": null,
      "outputs": []
    },
    {
      "cell_type": "code",
      "metadata": {
        "colab": {
          "base_uri": "https://localhost:8080/"
        },
        "id": "Hvv9wF0MQ7mG",
        "outputId": "00ca16e8-688a-4b41-cb49-6b6aa0dd94d2"
      },
      "source": [
        "import numpy as np\n",
        "data_file = '/content/KAG_Conversion_Data.csv'\n",
        "data = np.genfromtxt(data_file, delimiter=\",\", skip_header=1, encoding=None,dtype=str\n",
        ")\n",
        "data1 = np.genfromtxt(data_file, delimiter=\",\", skip_header=1, encoding=None)\n",
        "print(data)"
      ],
      "execution_count": 46,
      "outputs": [
        {
          "output_type": "stream",
          "name": "stdout",
          "text": [
            "[['708746' '916' '103916' ... '1.429999948' '2' '1']\n",
            " ['708749' '916' '103917' ... '1.820000023' '2' '0']\n",
            " ['708771' '916' '103920' ... '0' '1' '0']\n",
            " ...\n",
            " ['1314412' '1178' '179979' ... '40.28999949' '2' '0']\n",
            " ['1314414' '1178' '179981' ... '198.7100005' '8' '2']\n",
            " ['1314415' '1178' '179982' ... '165.6099987' '5' '2']]\n"
          ]
        }
      ]
    },
    {
      "cell_type": "code",
      "metadata": {
        "colab": {
          "base_uri": "https://localhost:8080/"
        },
        "id": "HEWXePxdS_On",
        "outputId": "30c576f1-0629-4aa2-9128-7a10584a59ba"
      },
      "source": [
        "x=data[:,1]\n",
        "unique_id=np.unique(x)\n",
        "print('unique_ids', unique_id)\n",
        "print('Toyal unique ids',unique_id.size)"
      ],
      "execution_count": 47,
      "outputs": [
        {
          "output_type": "stream",
          "name": "stdout",
          "text": [
            "unique_ids ['1178' '916' '936']\n",
            "Toyal unique ids 3\n"
          ]
        }
      ]
    },
    {
      "cell_type": "code",
      "metadata": {
        "colab": {
          "base_uri": "https://localhost:8080/"
        },
        "id": "UMxV45CBYT9y",
        "outputId": "b1754eee-b73d-4b46-d96b-0c7dcf4dd9ca"
      },
      "source": [
        "i=data[:,6]\n",
        "s=0\n",
        "for i in unique_id:\n",
        "  for j in x:\n",
        "    if i==j:\n",
        "      s+=1\n",
        "print('This {}id run {} tIMES'.format(i,s))"
      ],
      "execution_count": 49,
      "outputs": [
        {
          "output_type": "stream",
          "name": "stdout",
          "text": [
            "This 936id run 1143 tIMES\n"
          ]
        }
      ]
    },
    {
      "cell_type": "code",
      "metadata": {
        "colab": {
          "base_uri": "https://localhost:8080/"
        },
        "id": "fm6Z1Rctbhqh",
        "outputId": "00b79c7b-0ef7-4ff9-ad0e-8a351c54f522"
      },
      "source": [
        "age_group=data[:,3]\n",
        "print(\"The target age groups are\",np.unique(age_group))"
      ],
      "execution_count": 40,
      "outputs": [
        {
          "output_type": "stream",
          "name": "stdout",
          "text": [
            "The target age groups are ['30-34' '35-39' '40-44' '45-49']\n"
          ]
        }
      ]
    },
    {
      "cell_type": "code",
      "metadata": {
        "colab": {
          "base_uri": "https://localhost:8080/"
        },
        "id": "uZD-OjW_cKx6",
        "outputId": "9e1ac81e-9bf9-4fbc-ec5f-a32c348ec464"
      },
      "source": [
        "spent=data1[:,8]\n",
        "print('maximum time spent ', np.max(spent))\n",
        "print('minimum time spent ', np.min(spent))\n",
        "print('average time spent ', np.mean(spent))"
      ],
      "execution_count": 53,
      "outputs": [
        {
          "output_type": "stream",
          "name": "stdout",
          "text": [
            "maximum time spent  639.9499981\n",
            "minimum time spent  0.0\n",
            "average time spent  51.36065613141295\n"
          ]
        }
      ]
    },
    {
      "cell_type": "code",
      "metadata": {
        "colab": {
          "base_uri": "https://localhost:8080/"
        },
        "id": "x5j_inBvgl8j",
        "outputId": "eba0f11f-1e2a-4a87-bea4-8005b2c48b99"
      },
      "source": [
        "max_clicks = np.max(data1[:,7])\n",
        "print('MAx clicks ',max_clicks)"
      ],
      "execution_count": 57,
      "outputs": [
        {
          "output_type": "stream",
          "name": "stdout",
          "text": [
            "MAx clicks  421.0\n"
          ]
        }
      ]
    },
    {
      "cell_type": "code",
      "metadata": {
        "colab": {
          "base_uri": "https://localhost:8080/"
        },
        "id": "UCasbwggkMfM",
        "outputId": "1e4dd5d0-5b7b-4398-b840-381596f7186d"
      },
      "source": [
        "#What is the id of the ad having the maximum number of clicks ?\n",
        "data1[:,0][data1[:,7]==421]"
      ],
      "execution_count": 59,
      "outputs": [
        {
          "output_type": "execute_result",
          "data": {
            "text/plain": [
              "array([1121814.])"
            ]
          },
          "metadata": {},
          "execution_count": 59
        }
      ]
    },
    {
      "cell_type": "code",
      "metadata": {
        "colab": {
          "base_uri": "https://localhost:8080/"
        },
        "id": "accbgIp4k6s9",
        "outputId": "f42079e4-a8c0-4697-f9e8-5296a553de42"
      },
      "source": [
        "#How many people bought the product after seeing the ad with most clicks? \n",
        "data1[:,10][data1[:,7]==421]"
      ],
      "execution_count": 60,
      "outputs": [
        {
          "output_type": "execute_result",
          "data": {
            "text/plain": [
              "array([13.])"
            ]
          },
          "metadata": {},
          "execution_count": 60
        }
      ]
    },
    {
      "cell_type": "code",
      "metadata": {
        "colab": {
          "base_uri": "https://localhost:8080/"
        },
        "id": "ZLhxKCTwl_fX",
        "outputId": "098df654-b65c-48a1-d561-a960a9695350"
      },
      "source": [
        "#Is that the maximum number of purchases in this dataset?\n",
        "max_purchase=np.max(data1[:,10])\n",
        "print('Max Purchase is', max_purchase)"
      ],
      "execution_count": 63,
      "outputs": [
        {
          "output_type": "stream",
          "name": "stdout",
          "text": [
            "Max Purchase is 21.0\n"
          ]
        }
      ]
    },
    {
      "cell_type": "code",
      "metadata": {
        "colab": {
          "base_uri": "https://localhost:8080/"
        },
        "id": "LhmN1zqvml3F",
        "outputId": "e5a92d30-69ea-4ff9-8688-723800d55d39"
      },
      "source": [
        "#So the ad with the most clicks didn't fetch the maximum number of purchases. \n",
        "#Find the details of the product having maximum number of purchases\n",
        "data[data[:,10]=='21']"
      ],
      "execution_count": 65,
      "outputs": [
        {
          "output_type": "execute_result",
          "data": {
            "text/plain": [
              "array([['1121104', '1178', '144533', '30-34', 'M', '16', '2080666',\n",
              "        '202', '360.1500015', '40', '21']], dtype='<U11')"
            ]
          },
          "metadata": {},
          "execution_count": 65
        }
      ]
    }
  ]
}